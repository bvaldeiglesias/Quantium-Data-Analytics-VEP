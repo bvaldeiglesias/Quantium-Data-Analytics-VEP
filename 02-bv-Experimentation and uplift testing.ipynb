{
 "cells": [
  {
   "cell_type": "markdown",
   "metadata": {},
   "source": [
    "# Quantium - Task 2: Experimentation and uplift testing"
   ]
  },
  {
   "cell_type": "markdown",
   "metadata": {},
   "source": [
    "## Dependencies\n",
    "\n",
    "Required packages to run this notebook. "
   ]
  },
  {
   "cell_type": "code",
   "execution_count": 1,
   "metadata": {},
   "outputs": [
    {
     "name": "stdout",
     "output_type": "stream",
     "text": [
      "Requirement already satisfied: pandas in ./venv/lib/python3.8/site-packages (1.0.5)\n",
      "Requirement already satisfied: numpy>=1.13.3 in ./venv/lib/python3.8/site-packages (from pandas) (1.19.1)\n",
      "Requirement already satisfied: pytz>=2017.2 in ./venv/lib/python3.8/site-packages (from pandas) (2020.1)\n",
      "Requirement already satisfied: python-dateutil>=2.6.1 in ./venv/lib/python3.8/site-packages (from pandas) (2.8.1)\n",
      "Requirement already satisfied: six>=1.5 in ./venv/lib/python3.8/site-packages (from python-dateutil>=2.6.1->pandas) (1.15.0)\n"
     ]
    }
   ],
   "source": [
    "!pip install pandas"
   ]
  },
  {
   "cell_type": "markdown",
   "metadata": {},
   "source": [
    "## Loading datasets"
   ]
  },
  {
   "cell_type": "code",
   "execution_count": 2,
   "metadata": {},
   "outputs": [],
   "source": [
    "import pandas as pd\n",
    "\n",
    "pd.options.mode.chained_assignment = None"
   ]
  },
  {
   "cell_type": "code",
   "execution_count": 6,
   "metadata": {},
   "outputs": [
    {
     "data": {
      "text/plain": [
       "{'encoding': 'ascii', 'confidence': 1.0, 'language': ''}"
      ]
     },
     "execution_count": 6,
     "metadata": {},
     "output_type": "execute_result"
    }
   ],
   "source": [
    "import chardet\n",
    "\n",
    "with open('data/QVI_data.csv', 'rb') as rawdata:\n",
    "    result = chardet.detect(rawdata.read(10000))\n",
    "\n",
    "# Check what the character encoding might be\n",
    "result"
   ]
  },
  {
   "cell_type": "code",
   "execution_count": 7,
   "metadata": {},
   "outputs": [
    {
     "data": {
      "text/html": [
       "<div>\n",
       "<style scoped>\n",
       "    .dataframe tbody tr th:only-of-type {\n",
       "        vertical-align: middle;\n",
       "    }\n",
       "\n",
       "    .dataframe tbody tr th {\n",
       "        vertical-align: top;\n",
       "    }\n",
       "\n",
       "    .dataframe thead th {\n",
       "        text-align: right;\n",
       "    }\n",
       "</style>\n",
       "<table border=\"1\" class=\"dataframe\">\n",
       "  <thead>\n",
       "    <tr style=\"text-align: right;\">\n",
       "      <th></th>\n",
       "      <th>LYLTY_CARD_NBR</th>\n",
       "      <th>DATE</th>\n",
       "      <th>STORE_NBR</th>\n",
       "      <th>TXN_ID</th>\n",
       "      <th>PROD_NBR</th>\n",
       "      <th>PROD_NAME</th>\n",
       "      <th>PROD_QTY</th>\n",
       "      <th>TOT_SALES</th>\n",
       "      <th>PACK_SIZE</th>\n",
       "      <th>BRAND</th>\n",
       "      <th>LIFESTAGE</th>\n",
       "      <th>PREMIUM_CUSTOMER</th>\n",
       "    </tr>\n",
       "  </thead>\n",
       "  <tbody>\n",
       "    <tr>\n",
       "      <th>0</th>\n",
       "      <td>1000</td>\n",
       "      <td>2018-10-17</td>\n",
       "      <td>1</td>\n",
       "      <td>1</td>\n",
       "      <td>5</td>\n",
       "      <td>Natural Chip        Compny SeaSalt175g</td>\n",
       "      <td>2</td>\n",
       "      <td>6.0</td>\n",
       "      <td>175</td>\n",
       "      <td>NATURAL</td>\n",
       "      <td>YOUNG SINGLES/COUPLES</td>\n",
       "      <td>Premium</td>\n",
       "    </tr>\n",
       "    <tr>\n",
       "      <th>1</th>\n",
       "      <td>1002</td>\n",
       "      <td>2018-09-16</td>\n",
       "      <td>1</td>\n",
       "      <td>2</td>\n",
       "      <td>58</td>\n",
       "      <td>Red Rock Deli Chikn&amp;Garlic Aioli 150g</td>\n",
       "      <td>1</td>\n",
       "      <td>2.7</td>\n",
       "      <td>150</td>\n",
       "      <td>RRD</td>\n",
       "      <td>YOUNG SINGLES/COUPLES</td>\n",
       "      <td>Mainstream</td>\n",
       "    </tr>\n",
       "    <tr>\n",
       "      <th>2</th>\n",
       "      <td>1003</td>\n",
       "      <td>2019-03-07</td>\n",
       "      <td>1</td>\n",
       "      <td>3</td>\n",
       "      <td>52</td>\n",
       "      <td>Grain Waves Sour    Cream&amp;Chives 210G</td>\n",
       "      <td>1</td>\n",
       "      <td>3.6</td>\n",
       "      <td>210</td>\n",
       "      <td>GRNWVES</td>\n",
       "      <td>YOUNG FAMILIES</td>\n",
       "      <td>Budget</td>\n",
       "    </tr>\n",
       "    <tr>\n",
       "      <th>3</th>\n",
       "      <td>1003</td>\n",
       "      <td>2019-03-08</td>\n",
       "      <td>1</td>\n",
       "      <td>4</td>\n",
       "      <td>106</td>\n",
       "      <td>Natural ChipCo      Hony Soy Chckn175g</td>\n",
       "      <td>1</td>\n",
       "      <td>3.0</td>\n",
       "      <td>175</td>\n",
       "      <td>NATURAL</td>\n",
       "      <td>YOUNG FAMILIES</td>\n",
       "      <td>Budget</td>\n",
       "    </tr>\n",
       "    <tr>\n",
       "      <th>4</th>\n",
       "      <td>1004</td>\n",
       "      <td>2018-11-02</td>\n",
       "      <td>1</td>\n",
       "      <td>5</td>\n",
       "      <td>96</td>\n",
       "      <td>WW Original Stacked Chips 160g</td>\n",
       "      <td>1</td>\n",
       "      <td>1.9</td>\n",
       "      <td>160</td>\n",
       "      <td>WOOLWORTHS</td>\n",
       "      <td>OLDER SINGLES/COUPLES</td>\n",
       "      <td>Mainstream</td>\n",
       "    </tr>\n",
       "    <tr>\n",
       "      <th>...</th>\n",
       "      <td>...</td>\n",
       "      <td>...</td>\n",
       "      <td>...</td>\n",
       "      <td>...</td>\n",
       "      <td>...</td>\n",
       "      <td>...</td>\n",
       "      <td>...</td>\n",
       "      <td>...</td>\n",
       "      <td>...</td>\n",
       "      <td>...</td>\n",
       "      <td>...</td>\n",
       "      <td>...</td>\n",
       "    </tr>\n",
       "    <tr>\n",
       "      <th>264829</th>\n",
       "      <td>2370701</td>\n",
       "      <td>2018-12-08</td>\n",
       "      <td>88</td>\n",
       "      <td>240378</td>\n",
       "      <td>24</td>\n",
       "      <td>Grain Waves         Sweet Chilli 210g</td>\n",
       "      <td>2</td>\n",
       "      <td>7.2</td>\n",
       "      <td>210</td>\n",
       "      <td>GRNWVES</td>\n",
       "      <td>YOUNG FAMILIES</td>\n",
       "      <td>Mainstream</td>\n",
       "    </tr>\n",
       "    <tr>\n",
       "      <th>264830</th>\n",
       "      <td>2370751</td>\n",
       "      <td>2018-10-01</td>\n",
       "      <td>88</td>\n",
       "      <td>240394</td>\n",
       "      <td>60</td>\n",
       "      <td>Kettle Tortilla ChpsFeta&amp;Garlic 150g</td>\n",
       "      <td>2</td>\n",
       "      <td>9.2</td>\n",
       "      <td>150</td>\n",
       "      <td>KETTLE</td>\n",
       "      <td>YOUNG FAMILIES</td>\n",
       "      <td>Premium</td>\n",
       "    </tr>\n",
       "    <tr>\n",
       "      <th>264831</th>\n",
       "      <td>2370961</td>\n",
       "      <td>2018-10-24</td>\n",
       "      <td>88</td>\n",
       "      <td>240480</td>\n",
       "      <td>70</td>\n",
       "      <td>Tyrrells Crisps     Lightly Salted 165g</td>\n",
       "      <td>2</td>\n",
       "      <td>8.4</td>\n",
       "      <td>165</td>\n",
       "      <td>TYRRELLS</td>\n",
       "      <td>OLDER FAMILIES</td>\n",
       "      <td>Budget</td>\n",
       "    </tr>\n",
       "    <tr>\n",
       "      <th>264832</th>\n",
       "      <td>2370961</td>\n",
       "      <td>2018-10-27</td>\n",
       "      <td>88</td>\n",
       "      <td>240481</td>\n",
       "      <td>65</td>\n",
       "      <td>Old El Paso Salsa   Dip Chnky Tom Ht300g</td>\n",
       "      <td>2</td>\n",
       "      <td>10.2</td>\n",
       "      <td>300</td>\n",
       "      <td>OLD</td>\n",
       "      <td>OLDER FAMILIES</td>\n",
       "      <td>Budget</td>\n",
       "    </tr>\n",
       "    <tr>\n",
       "      <th>264833</th>\n",
       "      <td>2373711</td>\n",
       "      <td>2018-12-14</td>\n",
       "      <td>88</td>\n",
       "      <td>241815</td>\n",
       "      <td>16</td>\n",
       "      <td>Smiths Crinkle Chips Salt &amp; Vinegar 330g</td>\n",
       "      <td>2</td>\n",
       "      <td>11.4</td>\n",
       "      <td>330</td>\n",
       "      <td>SMITHS</td>\n",
       "      <td>YOUNG SINGLES/COUPLES</td>\n",
       "      <td>Mainstream</td>\n",
       "    </tr>\n",
       "  </tbody>\n",
       "</table>\n",
       "<p>264834 rows × 12 columns</p>\n",
       "</div>"
      ],
      "text/plain": [
       "        LYLTY_CARD_NBR        DATE  STORE_NBR  TXN_ID  PROD_NBR  \\\n",
       "0                 1000  2018-10-17          1       1         5   \n",
       "1                 1002  2018-09-16          1       2        58   \n",
       "2                 1003  2019-03-07          1       3        52   \n",
       "3                 1003  2019-03-08          1       4       106   \n",
       "4                 1004  2018-11-02          1       5        96   \n",
       "...                ...         ...        ...     ...       ...   \n",
       "264829         2370701  2018-12-08         88  240378        24   \n",
       "264830         2370751  2018-10-01         88  240394        60   \n",
       "264831         2370961  2018-10-24         88  240480        70   \n",
       "264832         2370961  2018-10-27         88  240481        65   \n",
       "264833         2373711  2018-12-14         88  241815        16   \n",
       "\n",
       "                                       PROD_NAME  PROD_QTY  TOT_SALES  \\\n",
       "0         Natural Chip        Compny SeaSalt175g         2        6.0   \n",
       "1          Red Rock Deli Chikn&Garlic Aioli 150g         1        2.7   \n",
       "2          Grain Waves Sour    Cream&Chives 210G         1        3.6   \n",
       "3         Natural ChipCo      Hony Soy Chckn175g         1        3.0   \n",
       "4                 WW Original Stacked Chips 160g         1        1.9   \n",
       "...                                          ...       ...        ...   \n",
       "264829     Grain Waves         Sweet Chilli 210g         2        7.2   \n",
       "264830      Kettle Tortilla ChpsFeta&Garlic 150g         2        9.2   \n",
       "264831   Tyrrells Crisps     Lightly Salted 165g         2        8.4   \n",
       "264832  Old El Paso Salsa   Dip Chnky Tom Ht300g         2       10.2   \n",
       "264833  Smiths Crinkle Chips Salt & Vinegar 330g         2       11.4   \n",
       "\n",
       "        PACK_SIZE       BRAND              LIFESTAGE PREMIUM_CUSTOMER  \n",
       "0             175     NATURAL  YOUNG SINGLES/COUPLES          Premium  \n",
       "1             150         RRD  YOUNG SINGLES/COUPLES       Mainstream  \n",
       "2             210     GRNWVES         YOUNG FAMILIES           Budget  \n",
       "3             175     NATURAL         YOUNG FAMILIES           Budget  \n",
       "4             160  WOOLWORTHS  OLDER SINGLES/COUPLES       Mainstream  \n",
       "...           ...         ...                    ...              ...  \n",
       "264829        210     GRNWVES         YOUNG FAMILIES       Mainstream  \n",
       "264830        150      KETTLE         YOUNG FAMILIES          Premium  \n",
       "264831        165    TYRRELLS         OLDER FAMILIES           Budget  \n",
       "264832        300         OLD         OLDER FAMILIES           Budget  \n",
       "264833        330      SMITHS  YOUNG SINGLES/COUPLES       Mainstream  \n",
       "\n",
       "[264834 rows x 12 columns]"
      ]
     },
     "execution_count": 7,
     "metadata": {},
     "output_type": "execute_result"
    }
   ],
   "source": [
    "df_data = pd.read_csv('data/QVI_data.csv', encoding='ascii')\n",
    "df_data"
   ]
  },
  {
   "cell_type": "markdown",
   "metadata": {},
   "source": [
    "## Control store selection"
   ]
  },
  {
   "cell_type": "markdown",
   "metadata": {},
   "source": [
    "First we must select a control store to compare its performance against the stores in trial."
   ]
  },
  {
   "cell_type": "code",
   "execution_count": 10,
   "metadata": {},
   "outputs": [
    {
     "data": {
      "text/plain": [
       "272"
      ]
     },
     "execution_count": 10,
     "metadata": {},
     "output_type": "execute_result"
    }
   ],
   "source": [
    "# How many stores are to choose from?\n",
    "df_data.STORE_NBR.nunique()"
   ]
  },
  {
   "cell_type": "markdown",
   "metadata": {},
   "source": [
    "Let's gather some metrics about the trials stores"
   ]
  },
  {
   "cell_type": "code",
   "execution_count": 29,
   "metadata": {},
   "outputs": [
    {
     "data": {
      "text/plain": [
       "STORE_NBR\n",
       "77     253.333333\n",
       "86     886.279167\n",
       "88    1361.104167\n",
       "Name: TOT_SALES, dtype: float64"
      ]
     },
     "execution_count": 29,
     "metadata": {},
     "output_type": "execute_result"
    }
   ],
   "source": [
    "# Average sales revenue per month per store\n",
    "df_data['MONTH'] = pd.DatetimeIndex(df_data['DATE']).month\n",
    "df_data[(df_data.STORE_NBR == 77) | (df_data.STORE_NBR == 86) | (df_data.STORE_NBR == 88)].groupby(['STORE_NBR','MONTH'])['TOT_SALES'].sum().groupby('STORE_NBR').mean()"
   ]
  },
  {
   "cell_type": "code",
   "execution_count": 31,
   "metadata": {},
   "outputs": [
    {
     "data": {
      "text/plain": [
       "STORE_NBR\n",
       "77    356\n",
       "86    273\n",
       "88    388\n",
       "Name: LYLTY_CARD_NBR, dtype: int64"
      ]
     },
     "execution_count": 31,
     "metadata": {},
     "output_type": "execute_result"
    }
   ],
   "source": [
    "# Total number of customers per store\n",
    "df_data[(df_data.STORE_NBR == 77) | (df_data.STORE_NBR == 86) | (df_data.STORE_NBR == 88)].groupby(['STORE_NBR'])['LYLTY_CARD_NBR'].nunique()"
   ]
  },
  {
   "cell_type": "code",
   "execution_count": 33,
   "metadata": {},
   "outputs": [
    {
     "data": {
      "text/plain": [
       "STORE_NBR\n",
       "77    1.581461\n",
       "86    5.633700\n",
       "88    4.827320\n",
       "Name: LYLTY_CARD_NBR, dtype: float64"
      ]
     },
     "execution_count": 33,
     "metadata": {},
     "output_type": "execute_result"
    }
   ],
   "source": [
    "# Average number of transactions per customer\n",
    "df_data[(df_data.STORE_NBR == 77) | (df_data.STORE_NBR == 86) | (df_data.STORE_NBR == 88)].groupby(['STORE_NBR','LYLTY_CARD_NBR'])['LYLTY_CARD_NBR'].count().groupby('STORE_NBR').mean()"
   ]
  },
  {
   "cell_type": "markdown",
   "metadata": {},
   "source": [
    "With this in mind we should now look for similar or correlated stores"
   ]
  },
  {
   "cell_type": "code",
   "execution_count": null,
   "metadata": {},
   "outputs": [],
   "source": [
    "corr = df.corr()\n",
    "\n",
    "mask = np.triu(np.ones_like(corr, dtype=np.bool))\n",
    "\n",
    "f, ax = plt.subplots(figsize=(20, 20))\n",
    "\n",
    "cmap = sns.diverging_palette(220, 10, as_cmap=True)\n",
    "\n",
    "sns.heatmap(corr, mask=mask, cmap=cmap, center=0,square=True, vmax=1.0,vmin=-1.0,linewidths=.5)"
   ]
  }
 ],
 "metadata": {
  "kernelspec": {
   "display_name": "Python 3",
   "language": "python",
   "name": "python3"
  },
  "language_info": {
   "codemirror_mode": {
    "name": "ipython",
    "version": 3
   },
   "file_extension": ".py",
   "mimetype": "text/x-python",
   "name": "python",
   "nbconvert_exporter": "python",
   "pygments_lexer": "ipython3",
   "version": "3.8.2"
  }
 },
 "nbformat": 4,
 "nbformat_minor": 4
}
